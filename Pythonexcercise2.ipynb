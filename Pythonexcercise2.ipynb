{
 "cells": [
  {
   "cell_type": "code",
   "execution_count": 2,
   "metadata": {},
   "outputs": [
    {
     "ename": "IndentationError",
     "evalue": "unexpected indent (<ipython-input-2-2f8b0583a976>, line 15)",
     "output_type": "error",
     "traceback": [
      "\u001b[1;36m  File \u001b[1;32m\"<ipython-input-2-2f8b0583a976>\"\u001b[1;36m, line \u001b[1;32m15\u001b[0m\n\u001b[1;33m    expected_file_1=['First','Second','Third','And']\u001b[0m\n\u001b[1;37m    ^\u001b[0m\n\u001b[1;31mIndentationError\u001b[0m\u001b[1;31m:\u001b[0m unexpected indent\n"
     ]
    }
   ],
   "source": [
    "import os\n",
    "DATA_DIR=r'C:\\Users\\Sanat'\n",
    "WordList-[]\n",
    "in_file1=os.path.join(DATA_DIR,'simple_file.txt')\n",
    "find_first_words(in_file1)\n",
    "['First','Second','Third','And']\n",
    "\n",
    "in_file2=os.path.join(DATA_DIR,'simple_file_with_empty_lines1.txt')\n",
    "find_first_words(in_file2)\n",
    "['The','','First','Funny','','Then']\n",
    "\n",
    "in_file1=os.path.join(DATA_DIR,'simple_file.txt')\n",
    "in_file2=os.path.join(DATA_DIR,'simple_file_with_empty_lines1.txt')\n",
    "\n",
    "        expected_file_1=['First','Second','Third','And']\n",
    "        assert find_first_words(in_file1)==expected_file_1\n",
    "        \n",
    "        expected_file_2=['The','','First','','Then']\n",
    "        assert find_first_words(in_file2)==expected_file_2\n",
    "        \n"
   ]
  },
  {
   "cell_type": "code",
   "execution_count": null,
   "metadata": {},
   "outputs": [],
   "source": []
  }
 ],
 "metadata": {
  "kernelspec": {
   "display_name": "Python 3",
   "language": "python",
   "name": "python3"
  },
  "language_info": {
   "codemirror_mode": {
    "name": "ipython",
    "version": 3
   },
   "file_extension": ".py",
   "mimetype": "text/x-python",
   "name": "python",
   "nbconvert_exporter": "python",
   "pygments_lexer": "ipython3",
   "version": "3.8.5"
  }
 },
 "nbformat": 4,
 "nbformat_minor": 4
}

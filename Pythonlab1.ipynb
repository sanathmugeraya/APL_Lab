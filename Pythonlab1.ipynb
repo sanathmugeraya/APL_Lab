{
 "cells": [
  {
   "cell_type": "code",
   "execution_count": 4,
   "metadata": {},
   "outputs": [
    {
     "ename": "IndentationError",
     "evalue": "expected an indented block (<ipython-input-4-b202dafb2b3c>, line 10)",
     "output_type": "error",
     "traceback": [
      "\u001b[1;36m  File \u001b[1;32m\"<ipython-input-4-b202dafb2b3c>\"\u001b[1;36m, line \u001b[1;32m10\u001b[0m\n\u001b[1;33m    print(statistics.mean(data));\u001b[0m\n\u001b[1;37m    ^\u001b[0m\n\u001b[1;31mIndentationError\u001b[0m\u001b[1;31m:\u001b[0m expected an indented block\n"
     ]
    }
   ],
   "source": [
    "print(\"Select operation\")\n",
    "print(\"1.mean\")\n",
    "print(\"2.median\")\n",
    "print('3.mode')\n",
    "choice=input(\"Enter the choice\")\n",
    "data=[3,3,4,5,6,7]\n",
    "\n",
    "import statistics\n",
    "if choice=='1':\n",
    "print(statistics.mean(data))\n",
    "\n",
    "elif choice=='2':\n",
    "print(statistics.median(data))\n",
    "\n",
    "elif choice=='3':\n",
    "print(statistics.mode(data))\n",
    "\n",
    "elif\n",
    "print(\"Invalid input\")"
   ]
  },
  {
   "cell_type": "code",
   "execution_count": null,
   "metadata": {},
   "outputs": [],
   "source": []
  }
 ],
 "metadata": {
  "kernelspec": {
   "display_name": "Python 3",
   "language": "python",
   "name": "python3"
  },
  "language_info": {
   "codemirror_mode": {
    "name": "ipython",
    "version": 3
   },
   "file_extension": ".py",
   "mimetype": "text/x-python",
   "name": "python",
   "nbconvert_exporter": "python",
   "pygments_lexer": "ipython3",
   "version": "3.8.5"
  }
 },
 "nbformat": 4,
 "nbformat_minor": 4
}
